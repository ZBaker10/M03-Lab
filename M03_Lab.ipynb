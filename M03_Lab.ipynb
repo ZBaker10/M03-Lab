
#vehicle super class
class Vehicle:
    def __init__(self, vehicle_type):
        self.vehicle_type = vehicle_type

#subclass automoble to seperate it from vehiicle
class Automobile(Vehicle):
    def __init__(self, year, make, model, doors, roof):
        super().__init__('car')  # Automatically setting vehicle_type to 'car'
        self.year = year
        self.make = make
        self.model = model
        self.doors = doors
        self.roof = roof

#get basc information of the car
def get_car_info():
    print("Please enter the details of the car:")
    year = input("Enter the year: ")
    make = input("Enter the make: ")
    model = input("Enter the model: ")
    
    #get more in depth details
    while True:
        try:
            doors = int(input("Enter 2 doors or 4 doors: "))
            if doors in [2, 4]:
                break
            else:
                print("Invalid number of doors. Please enter 2 or 4.")
        except ValueError:
            print("Please enter a valid number (2 or 4).")

    #sunroof
    while True:
        roof = input("Enter sun roof if the car has a sun roof, if not enter solid: ").lower()
        if roof in ["solid", "sun roof"]:
            break
        else:
            print("Invalid roof type. Please enter 'solid' or 'sun roof'.")
    
    #create the autobile object
    car = Automobile(year, make, model, doors, roof)
    
    #output the data
    print("\nVehicle information:")
    print(f"  Vehicle type: {car.vehicle_type}")
    print(f"  Year: {car.year}")
    print(f"  Make: {car.make}")
    print(f"  Model: {car.model}")
    print(f"  Number of doors: {car.doors}")
    print(f"  Type of roof: {car.roof}")

if __name__ == "__main__":
    get_car_info()



